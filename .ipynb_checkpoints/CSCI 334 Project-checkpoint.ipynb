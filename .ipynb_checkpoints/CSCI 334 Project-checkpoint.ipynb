{
 "cells": [
  {
   "cell_type": "code",
   "execution_count": 1,
   "metadata": {},
   "outputs": [
    {
     "name": "stdout",
     "output_type": "stream",
     "text": [
      "Index(['ID', 'age', 'sex', 'city', 'province', 'country',\n",
      "       'wuhan(0)_not_wuhan(1)', 'latitude', 'longitude', 'geo_resolution',\n",
      "       'date_onset_symptoms', 'date_admission_hospital', 'date_confirmation',\n",
      "       'symptoms', 'lives_in_Wuhan', 'travel_history_dates',\n",
      "       'travel_history_location', 'reported_market_exposure',\n",
      "       'additional_information', 'chronic_disease_binary', 'chronic_disease',\n",
      "       'source', 'sequence_available', 'outcome', 'date_death_or_discharge',\n",
      "       'notes_for_discussion', 'location', 'admin3', 'admin2', 'admin1',\n",
      "       'country_new', 'admin_id', 'data_moderator_initials', 'Unnamed: 33',\n",
      "       'Unnamed: 34', 'Unnamed: 35', 'Unnamed: 36', 'Unnamed: 37',\n",
      "       'Unnamed: 38', 'Unnamed: 39', 'Unnamed: 40', 'Unnamed: 41',\n",
      "       'Unnamed: 42', 'Unnamed: 43', 'Unnamed: 44'],\n",
      "      dtype='object')\n",
      "Index(['id', 'case_in_country', 'reporting date', 'Unnamed: 3', 'summary',\n",
      "       'location', 'country', 'gender', 'age', 'symptom_onset',\n",
      "       'If_onset_approximated', 'hosp_visit_date', 'exposure_start',\n",
      "       'exposure_end', 'visiting Wuhan', 'from Wuhan', 'death', 'recovered',\n",
      "       'symptom', 'source', 'link', 'Unnamed: 21', 'Unnamed: 22',\n",
      "       'Unnamed: 23', 'Unnamed: 24', 'Unnamed: 25', 'Unnamed: 26'],\n",
      "      dtype='object')\n"
     ]
    }
   ],
   "source": [
    "import pandas as pd\n",
    "import sklearn.pipeline\n",
    "import sklearn.model_selection\n",
    "\n",
    "pd.set_option('display.max_rows', 500)\n",
    "pd.set_option('display.max_columns', None)\n",
    "dataset_open_line = pd.read_csv('Covid-19 Data\\\\COVID19_line_list_data.csv')\n",
    "dataset_line_list = pd.read_csv('Covid-19 Data\\\\COVID19_line_list_data.csv')\n",
    "\n",
    "print(dataset_line_list.columns)\n",
    "print(dataset_open_line.columns)"
   ]
  },
  {
   "cell_type": "code",
   "execution_count": null,
   "metadata": {},
   "outputs": [],
   "source": []
  }
 ],
 "metadata": {
  "kernelspec": {
   "display_name": "Python TensorflowEnv",
   "language": "python",
   "name": "tensorflowenv"
  },
  "language_info": {
   "codemirror_mode": {
    "name": "ipython",
    "version": 3
   },
   "file_extension": ".py",
   "mimetype": "text/x-python",
   "name": "python",
   "nbconvert_exporter": "python",
   "pygments_lexer": "ipython3",
   "version": "3.6.8"
  }
 },
 "nbformat": 4,
 "nbformat_minor": 2
}
